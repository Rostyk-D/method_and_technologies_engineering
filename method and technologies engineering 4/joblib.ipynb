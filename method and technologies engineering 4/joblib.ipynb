{
 "cells": [
  {
   "cell_type": "markdown",
   "metadata": {},
   "source": [
    "[joblib](https://joblib.readthedocs.io/en/stable/) – це бібліотека Python, спеціально розроблена для спрощення паралельного виконання завдань та збереження результатів обчислень. Вона побудована на основі multiprocessing, але пропонує більш зручний інтерфейс та додаткові можливості.\n",
    "\n",
    "Основні використання joblib:\n",
    "* Паралельне виконання функцій: Розподіляє виконання функцій на кілька процесів або ядер.\n",
    "* Збереження результатів: Ефективно зберігає результати обчислень на диск для подальшого використання.\n",
    "* Завантаження результатів: Швидко завантажує збережені результати, уникаючи повторних обчислень.\n",
    "* Інструменти для машинного навчання: Пропонує функції для паралелізації процесів навчання моделей машинного навчання.\n",
    "\n",
    "Використання [Parallel](https://joblib.readthedocs.io/en/latest/generated/joblib.Parallel.html) та `delayed`.\n",
    "`Parallel`: Створює об'єкт, який управляє пулом робочих процесів.\n",
    "`delayed`: Декорує функції, відкладаючи їх виконання до моменту, коли буде викликаний метод `run` у `Parallel`."
   ]
  },
  {
   "cell_type": "code",
   "execution_count": 1,
   "metadata": {},
   "outputs": [
    {
     "name": "stdout",
     "output_type": "stream",
     "text": [
      "[0, 1, 4, 9, 16, 25, 36, 49, 64, 81]\n"
     ]
    }
   ],
   "source": [
    "%run joblib_example.py"
   ]
  },
  {
   "cell_type": "markdown",
   "metadata": {},
   "source": [
    "У прикладі вище:\n",
    "\n",
    "`Parallel(n_jobs=4)` створює пул з 4 процесів;\n",
    "\n",
    "`delayed(square)(i)` створює відкладені завдання для кожного числа від 0 до 9;\n",
    "\n",
    "`Parallel(...).run()` неявно запускає всі відкладені завдання паралельно. Такий синтаксис використовується для зручності та кращої читабельності коду. Він дозволяє записати паралельні обчислення в стилі, схожому на звичайний цикл.\n",
    "\n",
    "### Паралельна обробка з використанням декількох функцій."
   ]
  },
  {
   "cell_type": "code",
   "execution_count": 2,
   "metadata": {},
   "outputs": [
    {
     "name": "stdout",
     "output_type": "stream",
     "text": [
      "[0, 1, 4, 27, 16, 125, 36, 343, 64, 729]\n"
     ]
    }
   ],
   "source": [
    "%run joblib_few_functions.py"
   ]
  },
  {
   "cell_type": "markdown",
   "metadata": {},
   "source": [
    "### Збереження та завантаження результатів."
   ]
  },
  {
   "cell_type": "code",
   "execution_count": 3,
   "metadata": {},
   "outputs": [
    {
     "name": "stdout",
     "output_type": "stream",
     "text": [
      "results: [0, 1, 32, 243, 1024, 3125, 7776, 16807, 32768, 59049]\n",
      "loaded results: [0, 1, 32, 243, 1024, 3125, 7776, 16807, 32768, 59049]\n"
     ]
    }
   ],
   "source": [
    "%run joblib_save_load.py"
   ]
  }
 ],
 "metadata": {
  "kernelspec": {
   "display_name": "base",
   "language": "python",
   "name": "python3"
  },
  "language_info": {
   "codemirror_mode": {
    "name": "ipython",
    "version": 3
   },
   "file_extension": ".py",
   "mimetype": "text/x-python",
   "name": "python",
   "nbconvert_exporter": "python",
   "pygments_lexer": "ipython3",
   "version": "3.11.4"
  }
 },
 "nbformat": 4,
 "nbformat_minor": 2
}
