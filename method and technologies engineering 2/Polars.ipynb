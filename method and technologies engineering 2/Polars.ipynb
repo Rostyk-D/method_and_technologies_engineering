{
 "cells": [
  {
   "cell_type": "markdown",
   "metadata": {},
   "source": [
    "# Polars.\n",
    "\n",
    "Polars - це сучасна бібліотека для обробки даних у Python, яка набирає все більшої популярності завдяки своїй швидкодії, зручності використання та потужним можливостям. Вона розроблена для роботи з великими наборами даних та забезпечує ефективну обробку, агрегацію та аналіз даних.\n",
    "\n",
    "Ключові переваги Polars:\n",
    "* Швидкодія: Polars використовує технології паралельного обчислення та оптимізації пам'яті, що дозволяє їй працювати зі значно більшими наборами даних, ніж інші бібліотеки.\n",
    "* Виразна мова для маніпуляцій з даними: Polars має інтуїтивно зрозумілий синтаксис, який дозволяє легко виконувати складні операції з даними за допомогою ланцюжків викликів.\n",
    "* Інтеграція з іншими бібліотеками: Polars легко інтегрується з іншими популярними бібліотеками Python, такими як Pandas, NumPy, PyTorch та іншими.\n",
    "* Підтримка різних форматів даних: Polars може працювати з різними форматами даних, включаючи CSV, Parquet, JSON та іншими.\n",
    "* Лінива оцінка: Polars використовує відкладене обчислення, що дозволяє оптимізувати виконання складних операцій.\n",
    "\n",
    "Основні поняття:\n",
    "* DataFrame: Це основна структура даних в Polars, аналогічна DataFrame в Pandas. Вона представляє таблицю з рядками та стовпцями.\n",
    "* LazyFrame: Це відкладена версія DataFrame, яка дозволяє оптимізувати виконання складних операцій. Операції над LazyFrame не виконуються відразу, а будуються в граф виконання. Виконання відбувається лише при виклику методу, який повертає результат (наприклад, collect())."
   ]
  },
  {
   "cell_type": "code",
   "metadata": {
    "ExecuteTime": {
     "end_time": "2024-10-30T06:50:04.213699Z",
     "start_time": "2024-10-30T06:50:04.020703Z"
    }
   },
   "source": [
    "import polars as pl"
   ],
   "outputs": [],
   "execution_count": 1
  },
  {
   "cell_type": "markdown",
   "metadata": {},
   "source": [
    "### Створення DataFrame."
   ]
  },
  {
   "cell_type": "code",
   "execution_count": 2,
   "metadata": {},
   "outputs": [
    {
     "data": {
      "text/html": [
       "<div><style>\n",
       ".dataframe > thead > tr,\n",
       ".dataframe > tbody > tr {\n",
       "  text-align: right;\n",
       "  white-space: pre-wrap;\n",
       "}\n",
       "</style>\n",
       "<small>shape: (3, 2)</small><table border=\"1\" class=\"dataframe\"><thead><tr><th>column_a</th><th>column_b</th></tr><tr><td>i64</td><td>str</td></tr></thead><tbody><tr><td>1</td><td>&quot;a&quot;</td></tr><tr><td>2</td><td>&quot;b&quot;</td></tr><tr><td>3</td><td>&quot;c&quot;</td></tr></tbody></table></div>"
      ],
      "text/plain": [
       "shape: (3, 2)\n",
       "┌──────────┬──────────┐\n",
       "│ column_a ┆ column_b │\n",
       "│ ---      ┆ ---      │\n",
       "│ i64      ┆ str      │\n",
       "╞══════════╪══════════╡\n",
       "│ 1        ┆ a        │\n",
       "│ 2        ┆ b        │\n",
       "│ 3        ┆ c        │\n",
       "└──────────┴──────────┘"
      ]
     },
     "execution_count": 2,
     "metadata": {},
     "output_type": "execute_result"
    }
   ],
   "source": [
    "data = {\n",
    "    \"column_a\": [1, 2, 3],\n",
    "    \"column_b\": [\"a\", \"b\", \"c\"]\n",
    "}\n",
    "pl.DataFrame(data)"
   ]
  },
  {
   "cell_type": "code",
   "metadata": {
    "ExecuteTime": {
     "end_time": "2024-10-30T06:50:09.101239Z",
     "start_time": "2024-10-30T06:50:09.089700Z"
    }
   },
   "source": [
    "df = pl.read_csv(\"Data.csv\")\n",
    "df"
   ],
   "outputs": [
    {
     "data": {
      "text/plain": [
       "shape: (4_767, 6)\n",
       "┌──────────────┬────────┬────────────────┬────────────────┬───────────┬───────────────┐\n",
       "│ RegisterDate ┆ Points ┆ CurrentRanking ┆ HighestRanking ┆ Country   ┆ Continent     │\n",
       "│ ---          ┆ ---    ┆ ---            ┆ ---            ┆ ---       ┆ ---           │\n",
       "│ str          ┆ i64    ┆ i64            ┆ i64            ┆ str       ┆ str           │\n",
       "╞══════════════╪════════╪════════════════╪════════════════╪═══════════╪═══════════════╡\n",
       "│ 8/23/2012    ┆ 199697 ┆ 1              ┆ 1              ┆ Brazil    ┆ South America │\n",
       "│ 9/7/2016     ┆ 188693 ┆ 2              ┆ 1              ┆ None      ┆ None          │\n",
       "│ 6/24/2013    ┆ 160026 ┆ 3              ┆ 1              ┆ None      ┆ None          │\n",
       "│ 8/24/2015    ┆ 119109 ┆ 4              ┆ 4              ┆ Lithuania ┆ Europe        │\n",
       "│ 4/20/2014    ┆ 118149 ┆ 5              ┆ 5              ┆ Canada    ┆ North America │\n",
       "│ …            ┆ …      ┆ …              ┆ …              ┆ …         ┆ …             │\n",
       "│ 11/24/2010   ┆ 14     ┆ 4762           ┆ 265            ┆ Belgium   ┆ Europe        │\n",
       "│ 1/1/2012     ┆ 14     ┆ 4763           ┆ 1444           ┆ None      ┆ None          │\n",
       "│ 1/9/2012     ┆ 14     ┆ 4764           ┆ 1444           ┆ India     ┆ Asia          │\n",
       "│ 1/15/2012    ┆ 14     ┆ 4765           ┆ 1444           ┆ None      ┆ None          │\n",
       "│ 1/17/2012    ┆ 14     ┆ 4766           ┆ 1444           ┆ None      ┆ None          │\n",
       "└──────────────┴────────┴────────────────┴────────────────┴───────────┴───────────────┘"
      ],
      "text/html": [
       "<div><style>\n",
       ".dataframe > thead > tr,\n",
       ".dataframe > tbody > tr {\n",
       "  text-align: right;\n",
       "  white-space: pre-wrap;\n",
       "}\n",
       "</style>\n",
       "<small>shape: (4_767, 6)</small><table border=\"1\" class=\"dataframe\"><thead><tr><th>RegisterDate</th><th>Points</th><th>CurrentRanking</th><th>HighestRanking</th><th>Country</th><th>Continent</th></tr><tr><td>str</td><td>i64</td><td>i64</td><td>i64</td><td>str</td><td>str</td></tr></thead><tbody><tr><td>&quot;8/23/2012&quot;</td><td>199697</td><td>1</td><td>1</td><td>&quot;Brazil&quot;</td><td>&quot;South America&quot;</td></tr><tr><td>&quot;9/7/2016&quot;</td><td>188693</td><td>2</td><td>1</td><td>&quot;None&quot;</td><td>&quot;None&quot;</td></tr><tr><td>&quot;6/24/2013&quot;</td><td>160026</td><td>3</td><td>1</td><td>&quot;None&quot;</td><td>&quot;None&quot;</td></tr><tr><td>&quot;8/24/2015&quot;</td><td>119109</td><td>4</td><td>4</td><td>&quot;Lithuania&quot;</td><td>&quot;Europe&quot;</td></tr><tr><td>&quot;4/20/2014&quot;</td><td>118149</td><td>5</td><td>5</td><td>&quot;Canada&quot;</td><td>&quot;North America&quot;</td></tr><tr><td>&hellip;</td><td>&hellip;</td><td>&hellip;</td><td>&hellip;</td><td>&hellip;</td><td>&hellip;</td></tr><tr><td>&quot;11/24/2010&quot;</td><td>14</td><td>4762</td><td>265</td><td>&quot;Belgium&quot;</td><td>&quot;Europe&quot;</td></tr><tr><td>&quot;1/1/2012&quot;</td><td>14</td><td>4763</td><td>1444</td><td>&quot;None&quot;</td><td>&quot;None&quot;</td></tr><tr><td>&quot;1/9/2012&quot;</td><td>14</td><td>4764</td><td>1444</td><td>&quot;India&quot;</td><td>&quot;Asia&quot;</td></tr><tr><td>&quot;1/15/2012&quot;</td><td>14</td><td>4765</td><td>1444</td><td>&quot;None&quot;</td><td>&quot;None&quot;</td></tr><tr><td>&quot;1/17/2012&quot;</td><td>14</td><td>4766</td><td>1444</td><td>&quot;None&quot;</td><td>&quot;None&quot;</td></tr></tbody></table></div>"
      ]
     },
     "execution_count": 2,
     "metadata": {},
     "output_type": "execute_result"
    }
   ],
   "execution_count": 2
  },
  {
   "cell_type": "markdown",
   "metadata": {},
   "source": [
    "### Вибір колонок та рядків."
   ]
  },
  {
   "cell_type": "code",
   "execution_count": 4,
   "metadata": {},
   "outputs": [
    {
     "data": {
      "text/html": [
       "<div><style>\n",
       ".dataframe > thead > tr,\n",
       ".dataframe > tbody > tr {\n",
       "  text-align: right;\n",
       "  white-space: pre-wrap;\n",
       "}\n",
       "</style>\n",
       "<small>shape: (4_767, 2)</small><table border=\"1\" class=\"dataframe\"><thead><tr><th>Points</th><th>CurrentRanking</th></tr><tr><td>i64</td><td>i64</td></tr></thead><tbody><tr><td>199697</td><td>1</td></tr><tr><td>188693</td><td>2</td></tr><tr><td>160026</td><td>3</td></tr><tr><td>119109</td><td>4</td></tr><tr><td>118149</td><td>5</td></tr><tr><td>&hellip;</td><td>&hellip;</td></tr><tr><td>14</td><td>4762</td></tr><tr><td>14</td><td>4763</td></tr><tr><td>14</td><td>4764</td></tr><tr><td>14</td><td>4765</td></tr><tr><td>14</td><td>4766</td></tr></tbody></table></div>"
      ],
      "text/plain": [
       "shape: (4_767, 2)\n",
       "┌────────┬────────────────┐\n",
       "│ Points ┆ CurrentRanking │\n",
       "│ ---    ┆ ---            │\n",
       "│ i64    ┆ i64            │\n",
       "╞════════╪════════════════╡\n",
       "│ 199697 ┆ 1              │\n",
       "│ 188693 ┆ 2              │\n",
       "│ 160026 ┆ 3              │\n",
       "│ 119109 ┆ 4              │\n",
       "│ 118149 ┆ 5              │\n",
       "│ …      ┆ …              │\n",
       "│ 14     ┆ 4762           │\n",
       "│ 14     ┆ 4763           │\n",
       "│ 14     ┆ 4764           │\n",
       "│ 14     ┆ 4765           │\n",
       "│ 14     ┆ 4766           │\n",
       "└────────┴────────────────┘"
      ]
     },
     "execution_count": 4,
     "metadata": {},
     "output_type": "execute_result"
    }
   ],
   "source": [
    "df.select(['Points', 'CurrentRanking'])"
   ]
  },
  {
   "cell_type": "code",
   "execution_count": 5,
   "metadata": {},
   "outputs": [
    {
     "data": {
      "text/html": [
       "<div><style>\n",
       ".dataframe > thead > tr,\n",
       ".dataframe > tbody > tr {\n",
       "  text-align: right;\n",
       "  white-space: pre-wrap;\n",
       "}\n",
       "</style>\n",
       "<small>shape: (9, 6)</small><table border=\"1\" class=\"dataframe\"><thead><tr><th>RegisterDate</th><th>Points</th><th>CurrentRanking</th><th>HighestRanking</th><th>Country</th><th>Continent</th></tr><tr><td>str</td><td>i64</td><td>i64</td><td>i64</td><td>str</td><td>str</td></tr></thead><tbody><tr><td>&quot;8/23/2012&quot;</td><td>199697</td><td>1</td><td>1</td><td>&quot;Brazil&quot;</td><td>&quot;South America&quot;</td></tr><tr><td>&quot;9/7/2016&quot;</td><td>188693</td><td>2</td><td>1</td><td>&quot;None&quot;</td><td>&quot;None&quot;</td></tr><tr><td>&quot;6/24/2013&quot;</td><td>160026</td><td>3</td><td>1</td><td>&quot;None&quot;</td><td>&quot;None&quot;</td></tr><tr><td>&quot;8/24/2015&quot;</td><td>119109</td><td>4</td><td>4</td><td>&quot;Lithuania&quot;</td><td>&quot;Europe&quot;</td></tr><tr><td>&quot;4/20/2014&quot;</td><td>118149</td><td>5</td><td>5</td><td>&quot;Canada&quot;</td><td>&quot;North America&quot;</td></tr><tr><td>&quot;11/13/2012&quot;</td><td>116060</td><td>6</td><td>4</td><td>&quot;United States&quot;</td><td>&quot;North America&quot;</td></tr><tr><td>&quot;2/28/2014&quot;</td><td>114214</td><td>7</td><td>3</td><td>&quot;China&quot;</td><td>&quot;Asia&quot;</td></tr><tr><td>&quot;11/8/2015&quot;</td><td>106314</td><td>8</td><td>8</td><td>&quot;Russia&quot;</td><td>&quot;Asia&quot;</td></tr><tr><td>&quot;6/25/2010&quot;</td><td>103017</td><td>9</td><td>6</td><td>&quot;Austria&quot;</td><td>&quot;Europe&quot;</td></tr></tbody></table></div>"
      ],
      "text/plain": [
       "shape: (9, 6)\n",
       "┌──────────────┬────────┬────────────────┬────────────────┬───────────────┬───────────────┐\n",
       "│ RegisterDate ┆ Points ┆ CurrentRanking ┆ HighestRanking ┆ Country       ┆ Continent     │\n",
       "│ ---          ┆ ---    ┆ ---            ┆ ---            ┆ ---           ┆ ---           │\n",
       "│ str          ┆ i64    ┆ i64            ┆ i64            ┆ str           ┆ str           │\n",
       "╞══════════════╪════════╪════════════════╪════════════════╪═══════════════╪═══════════════╡\n",
       "│ 8/23/2012    ┆ 199697 ┆ 1              ┆ 1              ┆ Brazil        ┆ South America │\n",
       "│ 9/7/2016     ┆ 188693 ┆ 2              ┆ 1              ┆ None          ┆ None          │\n",
       "│ 6/24/2013    ┆ 160026 ┆ 3              ┆ 1              ┆ None          ┆ None          │\n",
       "│ 8/24/2015    ┆ 119109 ┆ 4              ┆ 4              ┆ Lithuania     ┆ Europe        │\n",
       "│ 4/20/2014    ┆ 118149 ┆ 5              ┆ 5              ┆ Canada        ┆ North America │\n",
       "│ 11/13/2012   ┆ 116060 ┆ 6              ┆ 4              ┆ United States ┆ North America │\n",
       "│ 2/28/2014    ┆ 114214 ┆ 7              ┆ 3              ┆ China         ┆ Asia          │\n",
       "│ 11/8/2015    ┆ 106314 ┆ 8              ┆ 8              ┆ Russia        ┆ Asia          │\n",
       "│ 6/25/2010    ┆ 103017 ┆ 9              ┆ 6              ┆ Austria       ┆ Europe        │\n",
       "└──────────────┴────────┴────────────────┴────────────────┴───────────────┴───────────────┘"
      ]
     },
     "execution_count": 5,
     "metadata": {},
     "output_type": "execute_result"
    }
   ],
   "source": [
    "df.filter(pl.col('CurrentRanking') < 10)"
   ]
  },
  {
   "cell_type": "markdown",
   "metadata": {},
   "source": [
    "### Модифікація датафрейму."
   ]
  },
  {
   "cell_type": "code",
   "execution_count": 6,
   "metadata": {},
   "outputs": [
    {
     "data": {
      "text/html": [
       "<div><style>\n",
       ".dataframe > thead > tr,\n",
       ".dataframe > tbody > tr {\n",
       "  text-align: right;\n",
       "  white-space: pre-wrap;\n",
       "}\n",
       "</style>\n",
       "<small>shape: (4_767, 7)</small><table border=\"1\" class=\"dataframe\"><thead><tr><th>RegisterDate</th><th>Points</th><th>CurrentRanking</th><th>HighestRanking</th><th>Country</th><th>Continent</th><th>new_column</th></tr><tr><td>str</td><td>i64</td><td>i64</td><td>i64</td><td>str</td><td>str</td><td>i64</td></tr></thead><tbody><tr><td>&quot;8/23/2012&quot;</td><td>199697</td><td>1</td><td>1</td><td>&quot;Brazil&quot;</td><td>&quot;South America&quot;</td><td>2</td></tr><tr><td>&quot;9/7/2016&quot;</td><td>188693</td><td>2</td><td>1</td><td>&quot;None&quot;</td><td>&quot;None&quot;</td><td>3</td></tr><tr><td>&quot;6/24/2013&quot;</td><td>160026</td><td>3</td><td>1</td><td>&quot;None&quot;</td><td>&quot;None&quot;</td><td>4</td></tr><tr><td>&quot;8/24/2015&quot;</td><td>119109</td><td>4</td><td>4</td><td>&quot;Lithuania&quot;</td><td>&quot;Europe&quot;</td><td>8</td></tr><tr><td>&quot;4/20/2014&quot;</td><td>118149</td><td>5</td><td>5</td><td>&quot;Canada&quot;</td><td>&quot;North America&quot;</td><td>10</td></tr><tr><td>&hellip;</td><td>&hellip;</td><td>&hellip;</td><td>&hellip;</td><td>&hellip;</td><td>&hellip;</td><td>&hellip;</td></tr><tr><td>&quot;11/24/2010&quot;</td><td>14</td><td>4762</td><td>265</td><td>&quot;Belgium&quot;</td><td>&quot;Europe&quot;</td><td>5027</td></tr><tr><td>&quot;1/1/2012&quot;</td><td>14</td><td>4763</td><td>1444</td><td>&quot;None&quot;</td><td>&quot;None&quot;</td><td>6207</td></tr><tr><td>&quot;1/9/2012&quot;</td><td>14</td><td>4764</td><td>1444</td><td>&quot;India&quot;</td><td>&quot;Asia&quot;</td><td>6208</td></tr><tr><td>&quot;1/15/2012&quot;</td><td>14</td><td>4765</td><td>1444</td><td>&quot;None&quot;</td><td>&quot;None&quot;</td><td>6209</td></tr><tr><td>&quot;1/17/2012&quot;</td><td>14</td><td>4766</td><td>1444</td><td>&quot;None&quot;</td><td>&quot;None&quot;</td><td>6210</td></tr></tbody></table></div>"
      ],
      "text/plain": [
       "shape: (4_767, 7)\n",
       "┌──────────────┬────────┬────────────────┬────────────────┬───────────┬───────────────┬────────────┐\n",
       "│ RegisterDate ┆ Points ┆ CurrentRanking ┆ HighestRanking ┆ Country   ┆ Continent     ┆ new_column │\n",
       "│ ---          ┆ ---    ┆ ---            ┆ ---            ┆ ---       ┆ ---           ┆ ---        │\n",
       "│ str          ┆ i64    ┆ i64            ┆ i64            ┆ str       ┆ str           ┆ i64        │\n",
       "╞══════════════╪════════╪════════════════╪════════════════╪═══════════╪═══════════════╪════════════╡\n",
       "│ 8/23/2012    ┆ 199697 ┆ 1              ┆ 1              ┆ Brazil    ┆ South America ┆ 2          │\n",
       "│ 9/7/2016     ┆ 188693 ┆ 2              ┆ 1              ┆ None      ┆ None          ┆ 3          │\n",
       "│ 6/24/2013    ┆ 160026 ┆ 3              ┆ 1              ┆ None      ┆ None          ┆ 4          │\n",
       "│ 8/24/2015    ┆ 119109 ┆ 4              ┆ 4              ┆ Lithuania ┆ Europe        ┆ 8          │\n",
       "│ 4/20/2014    ┆ 118149 ┆ 5              ┆ 5              ┆ Canada    ┆ North America ┆ 10         │\n",
       "│ …            ┆ …      ┆ …              ┆ …              ┆ …         ┆ …             ┆ …          │\n",
       "│ 11/24/2010   ┆ 14     ┆ 4762           ┆ 265            ┆ Belgium   ┆ Europe        ┆ 5027       │\n",
       "│ 1/1/2012     ┆ 14     ┆ 4763           ┆ 1444           ┆ None      ┆ None          ┆ 6207       │\n",
       "│ 1/9/2012     ┆ 14     ┆ 4764           ┆ 1444           ┆ India     ┆ Asia          ┆ 6208       │\n",
       "│ 1/15/2012    ┆ 14     ┆ 4765           ┆ 1444           ┆ None      ┆ None          ┆ 6209       │\n",
       "│ 1/17/2012    ┆ 14     ┆ 4766           ┆ 1444           ┆ None      ┆ None          ┆ 6210       │\n",
       "└──────────────┴────────┴────────────────┴────────────────┴───────────┴───────────────┴────────────┘"
      ]
     },
     "execution_count": 6,
     "metadata": {},
     "output_type": "execute_result"
    }
   ],
   "source": [
    "df = df.with_columns(\n",
    "    (pl.col('CurrentRanking') + pl.col('HighestRanking')).alias('new_column')\n",
    "    )\n",
    "df"
   ]
  },
  {
   "cell_type": "code",
   "execution_count": 7,
   "metadata": {},
   "outputs": [
    {
     "data": {
      "text/html": [
       "<div><style>\n",
       ".dataframe > thead > tr,\n",
       ".dataframe > tbody > tr {\n",
       "  text-align: right;\n",
       "  white-space: pre-wrap;\n",
       "}\n",
       "</style>\n",
       "<small>shape: (4_767, 7)</small><table border=\"1\" class=\"dataframe\"><thead><tr><th>RegisterDate</th><th>Points</th><th>CurrentRanking</th><th>HighestRanking</th><th>Country</th><th>Continent</th><th>new_column</th></tr><tr><td>str</td><td>i64</td><td>f64</td><td>i64</td><td>str</td><td>str</td><td>i64</td></tr></thead><tbody><tr><td>&quot;8/23/2012&quot;</td><td>199697</td><td>1.0</td><td>1</td><td>&quot;Brazil&quot;</td><td>&quot;South America&quot;</td><td>2</td></tr><tr><td>&quot;9/7/2016&quot;</td><td>188693</td><td>2.0</td><td>1</td><td>&quot;None&quot;</td><td>&quot;None&quot;</td><td>3</td></tr><tr><td>&quot;6/24/2013&quot;</td><td>160026</td><td>3.0</td><td>1</td><td>&quot;None&quot;</td><td>&quot;None&quot;</td><td>4</td></tr><tr><td>&quot;8/24/2015&quot;</td><td>119109</td><td>4.0</td><td>4</td><td>&quot;Lithuania&quot;</td><td>&quot;Europe&quot;</td><td>8</td></tr><tr><td>&quot;4/20/2014&quot;</td><td>118149</td><td>5.0</td><td>5</td><td>&quot;Canada&quot;</td><td>&quot;North America&quot;</td><td>10</td></tr><tr><td>&hellip;</td><td>&hellip;</td><td>&hellip;</td><td>&hellip;</td><td>&hellip;</td><td>&hellip;</td><td>&hellip;</td></tr><tr><td>&quot;11/24/2010&quot;</td><td>14</td><td>4762.0</td><td>265</td><td>&quot;Belgium&quot;</td><td>&quot;Europe&quot;</td><td>5027</td></tr><tr><td>&quot;1/1/2012&quot;</td><td>14</td><td>4763.0</td><td>1444</td><td>&quot;None&quot;</td><td>&quot;None&quot;</td><td>6207</td></tr><tr><td>&quot;1/9/2012&quot;</td><td>14</td><td>4764.0</td><td>1444</td><td>&quot;India&quot;</td><td>&quot;Asia&quot;</td><td>6208</td></tr><tr><td>&quot;1/15/2012&quot;</td><td>14</td><td>4765.0</td><td>1444</td><td>&quot;None&quot;</td><td>&quot;None&quot;</td><td>6209</td></tr><tr><td>&quot;1/17/2012&quot;</td><td>14</td><td>4766.0</td><td>1444</td><td>&quot;None&quot;</td><td>&quot;None&quot;</td><td>6210</td></tr></tbody></table></div>"
      ],
      "text/plain": [
       "shape: (4_767, 7)\n",
       "┌──────────────┬────────┬────────────────┬────────────────┬───────────┬───────────────┬────────────┐\n",
       "│ RegisterDate ┆ Points ┆ CurrentRanking ┆ HighestRanking ┆ Country   ┆ Continent     ┆ new_column │\n",
       "│ ---          ┆ ---    ┆ ---            ┆ ---            ┆ ---       ┆ ---           ┆ ---        │\n",
       "│ str          ┆ i64    ┆ f64            ┆ i64            ┆ str       ┆ str           ┆ i64        │\n",
       "╞══════════════╪════════╪════════════════╪════════════════╪═══════════╪═══════════════╪════════════╡\n",
       "│ 8/23/2012    ┆ 199697 ┆ 1.0            ┆ 1              ┆ Brazil    ┆ South America ┆ 2          │\n",
       "│ 9/7/2016     ┆ 188693 ┆ 2.0            ┆ 1              ┆ None      ┆ None          ┆ 3          │\n",
       "│ 6/24/2013    ┆ 160026 ┆ 3.0            ┆ 1              ┆ None      ┆ None          ┆ 4          │\n",
       "│ 8/24/2015    ┆ 119109 ┆ 4.0            ┆ 4              ┆ Lithuania ┆ Europe        ┆ 8          │\n",
       "│ 4/20/2014    ┆ 118149 ┆ 5.0            ┆ 5              ┆ Canada    ┆ North America ┆ 10         │\n",
       "│ …            ┆ …      ┆ …              ┆ …              ┆ …         ┆ …             ┆ …          │\n",
       "│ 11/24/2010   ┆ 14     ┆ 4762.0         ┆ 265            ┆ Belgium   ┆ Europe        ┆ 5027       │\n",
       "│ 1/1/2012     ┆ 14     ┆ 4763.0         ┆ 1444           ┆ None      ┆ None          ┆ 6207       │\n",
       "│ 1/9/2012     ┆ 14     ┆ 4764.0         ┆ 1444           ┆ India     ┆ Asia          ┆ 6208       │\n",
       "│ 1/15/2012    ┆ 14     ┆ 4765.0         ┆ 1444           ┆ None      ┆ None          ┆ 6209       │\n",
       "│ 1/17/2012    ┆ 14     ┆ 4766.0         ┆ 1444           ┆ None      ┆ None          ┆ 6210       │\n",
       "└──────────────┴────────┴────────────────┴────────────────┴───────────┴───────────────┴────────────┘"
      ]
     },
     "execution_count": 7,
     "metadata": {},
     "output_type": "execute_result"
    }
   ],
   "source": [
    "df = df.with_columns(\n",
    "    pl.col('CurrentRanking').cast(pl.Float64)\n",
    ")\n",
    "df"
   ]
  },
  {
   "cell_type": "code",
   "execution_count": 8,
   "metadata": {},
   "outputs": [
    {
     "data": {
      "text/html": [
       "<div><style>\n",
       ".dataframe > thead > tr,\n",
       ".dataframe > tbody > tr {\n",
       "  text-align: right;\n",
       "  white-space: pre-wrap;\n",
       "}\n",
       "</style>\n",
       "<small>shape: (4_767, 6)</small><table border=\"1\" class=\"dataframe\"><thead><tr><th>RegisterDate</th><th>Points</th><th>CurrentRanking</th><th>HighestRanking</th><th>Country</th><th>Continent</th></tr><tr><td>str</td><td>i64</td><td>f64</td><td>i64</td><td>str</td><td>str</td></tr></thead><tbody><tr><td>&quot;8/23/2012&quot;</td><td>199697</td><td>1.0</td><td>1</td><td>&quot;Brazil&quot;</td><td>&quot;South America&quot;</td></tr><tr><td>&quot;9/7/2016&quot;</td><td>188693</td><td>2.0</td><td>1</td><td>&quot;None&quot;</td><td>&quot;None&quot;</td></tr><tr><td>&quot;6/24/2013&quot;</td><td>160026</td><td>3.0</td><td>1</td><td>&quot;None&quot;</td><td>&quot;None&quot;</td></tr><tr><td>&quot;8/24/2015&quot;</td><td>119109</td><td>4.0</td><td>4</td><td>&quot;Lithuania&quot;</td><td>&quot;Europe&quot;</td></tr><tr><td>&quot;4/20/2014&quot;</td><td>118149</td><td>5.0</td><td>5</td><td>&quot;Canada&quot;</td><td>&quot;North America&quot;</td></tr><tr><td>&hellip;</td><td>&hellip;</td><td>&hellip;</td><td>&hellip;</td><td>&hellip;</td><td>&hellip;</td></tr><tr><td>&quot;11/24/2010&quot;</td><td>14</td><td>4762.0</td><td>265</td><td>&quot;Belgium&quot;</td><td>&quot;Europe&quot;</td></tr><tr><td>&quot;1/1/2012&quot;</td><td>14</td><td>4763.0</td><td>1444</td><td>&quot;None&quot;</td><td>&quot;None&quot;</td></tr><tr><td>&quot;1/9/2012&quot;</td><td>14</td><td>4764.0</td><td>1444</td><td>&quot;India&quot;</td><td>&quot;Asia&quot;</td></tr><tr><td>&quot;1/15/2012&quot;</td><td>14</td><td>4765.0</td><td>1444</td><td>&quot;None&quot;</td><td>&quot;None&quot;</td></tr><tr><td>&quot;1/17/2012&quot;</td><td>14</td><td>4766.0</td><td>1444</td><td>&quot;None&quot;</td><td>&quot;None&quot;</td></tr></tbody></table></div>"
      ],
      "text/plain": [
       "shape: (4_767, 6)\n",
       "┌──────────────┬────────┬────────────────┬────────────────┬───────────┬───────────────┐\n",
       "│ RegisterDate ┆ Points ┆ CurrentRanking ┆ HighestRanking ┆ Country   ┆ Continent     │\n",
       "│ ---          ┆ ---    ┆ ---            ┆ ---            ┆ ---       ┆ ---           │\n",
       "│ str          ┆ i64    ┆ f64            ┆ i64            ┆ str       ┆ str           │\n",
       "╞══════════════╪════════╪════════════════╪════════════════╪═══════════╪═══════════════╡\n",
       "│ 8/23/2012    ┆ 199697 ┆ 1.0            ┆ 1              ┆ Brazil    ┆ South America │\n",
       "│ 9/7/2016     ┆ 188693 ┆ 2.0            ┆ 1              ┆ None      ┆ None          │\n",
       "│ 6/24/2013    ┆ 160026 ┆ 3.0            ┆ 1              ┆ None      ┆ None          │\n",
       "│ 8/24/2015    ┆ 119109 ┆ 4.0            ┆ 4              ┆ Lithuania ┆ Europe        │\n",
       "│ 4/20/2014    ┆ 118149 ┆ 5.0            ┆ 5              ┆ Canada    ┆ North America │\n",
       "│ …            ┆ …      ┆ …              ┆ …              ┆ …         ┆ …             │\n",
       "│ 11/24/2010   ┆ 14     ┆ 4762.0         ┆ 265            ┆ Belgium   ┆ Europe        │\n",
       "│ 1/1/2012     ┆ 14     ┆ 4763.0         ┆ 1444           ┆ None      ┆ None          │\n",
       "│ 1/9/2012     ┆ 14     ┆ 4764.0         ┆ 1444           ┆ India     ┆ Asia          │\n",
       "│ 1/15/2012    ┆ 14     ┆ 4765.0         ┆ 1444           ┆ None      ┆ None          │\n",
       "│ 1/17/2012    ┆ 14     ┆ 4766.0         ┆ 1444           ┆ None      ┆ None          │\n",
       "└──────────────┴────────┴────────────────┴────────────────┴───────────┴───────────────┘"
      ]
     },
     "execution_count": 8,
     "metadata": {},
     "output_type": "execute_result"
    }
   ],
   "source": [
    "df = df.drop('new_column')\n",
    "df"
   ]
  },
  {
   "cell_type": "markdown",
   "metadata": {},
   "source": [
    "### Сортування."
   ]
  },
  {
   "cell_type": "code",
   "execution_count": 9,
   "metadata": {},
   "outputs": [
    {
     "data": {
      "text/html": [
       "<div><style>\n",
       ".dataframe > thead > tr,\n",
       ".dataframe > tbody > tr {\n",
       "  text-align: right;\n",
       "  white-space: pre-wrap;\n",
       "}\n",
       "</style>\n",
       "<small>shape: (4_767, 6)</small><table border=\"1\" class=\"dataframe\"><thead><tr><th>RegisterDate</th><th>Points</th><th>CurrentRanking</th><th>HighestRanking</th><th>Country</th><th>Continent</th></tr><tr><td>str</td><td>i64</td><td>f64</td><td>i64</td><td>str</td><td>str</td></tr></thead><tbody><tr><td>&quot;11/24/2010&quot;</td><td>14</td><td>4762.0</td><td>265</td><td>&quot;Belgium&quot;</td><td>&quot;Europe&quot;</td></tr><tr><td>&quot;1/1/2012&quot;</td><td>14</td><td>4763.0</td><td>1444</td><td>&quot;None&quot;</td><td>&quot;None&quot;</td></tr><tr><td>&quot;1/9/2012&quot;</td><td>14</td><td>4764.0</td><td>1444</td><td>&quot;India&quot;</td><td>&quot;Asia&quot;</td></tr><tr><td>&quot;1/15/2012&quot;</td><td>14</td><td>4765.0</td><td>1444</td><td>&quot;None&quot;</td><td>&quot;None&quot;</td></tr><tr><td>&quot;1/17/2012&quot;</td><td>14</td><td>4766.0</td><td>1444</td><td>&quot;None&quot;</td><td>&quot;None&quot;</td></tr><tr><td>&hellip;</td><td>&hellip;</td><td>&hellip;</td><td>&hellip;</td><td>&hellip;</td><td>&hellip;</td></tr><tr><td>&quot;4/20/2014&quot;</td><td>118149</td><td>5.0</td><td>5</td><td>&quot;Canada&quot;</td><td>&quot;North America&quot;</td></tr><tr><td>&quot;8/24/2015&quot;</td><td>119109</td><td>4.0</td><td>4</td><td>&quot;Lithuania&quot;</td><td>&quot;Europe&quot;</td></tr><tr><td>&quot;6/24/2013&quot;</td><td>160026</td><td>3.0</td><td>1</td><td>&quot;None&quot;</td><td>&quot;None&quot;</td></tr><tr><td>&quot;9/7/2016&quot;</td><td>188693</td><td>2.0</td><td>1</td><td>&quot;None&quot;</td><td>&quot;None&quot;</td></tr><tr><td>&quot;8/23/2012&quot;</td><td>199697</td><td>1.0</td><td>1</td><td>&quot;Brazil&quot;</td><td>&quot;South America&quot;</td></tr></tbody></table></div>"
      ],
      "text/plain": [
       "shape: (4_767, 6)\n",
       "┌──────────────┬────────┬────────────────┬────────────────┬───────────┬───────────────┐\n",
       "│ RegisterDate ┆ Points ┆ CurrentRanking ┆ HighestRanking ┆ Country   ┆ Continent     │\n",
       "│ ---          ┆ ---    ┆ ---            ┆ ---            ┆ ---       ┆ ---           │\n",
       "│ str          ┆ i64    ┆ f64            ┆ i64            ┆ str       ┆ str           │\n",
       "╞══════════════╪════════╪════════════════╪════════════════╪═══════════╪═══════════════╡\n",
       "│ 11/24/2010   ┆ 14     ┆ 4762.0         ┆ 265            ┆ Belgium   ┆ Europe        │\n",
       "│ 1/1/2012     ┆ 14     ┆ 4763.0         ┆ 1444           ┆ None      ┆ None          │\n",
       "│ 1/9/2012     ┆ 14     ┆ 4764.0         ┆ 1444           ┆ India     ┆ Asia          │\n",
       "│ 1/15/2012    ┆ 14     ┆ 4765.0         ┆ 1444           ┆ None      ┆ None          │\n",
       "│ 1/17/2012    ┆ 14     ┆ 4766.0         ┆ 1444           ┆ None      ┆ None          │\n",
       "│ …            ┆ …      ┆ …              ┆ …              ┆ …         ┆ …             │\n",
       "│ 4/20/2014    ┆ 118149 ┆ 5.0            ┆ 5              ┆ Canada    ┆ North America │\n",
       "│ 8/24/2015    ┆ 119109 ┆ 4.0            ┆ 4              ┆ Lithuania ┆ Europe        │\n",
       "│ 6/24/2013    ┆ 160026 ┆ 3.0            ┆ 1              ┆ None      ┆ None          │\n",
       "│ 9/7/2016     ┆ 188693 ┆ 2.0            ┆ 1              ┆ None      ┆ None          │\n",
       "│ 8/23/2012    ┆ 199697 ┆ 1.0            ┆ 1              ┆ Brazil    ┆ South America │\n",
       "└──────────────┴────────┴────────────────┴────────────────┴───────────┴───────────────┘"
      ]
     },
     "execution_count": 9,
     "metadata": {},
     "output_type": "execute_result"
    }
   ],
   "source": [
    "df.sort(by = 'Points')"
   ]
  },
  {
   "cell_type": "code",
   "execution_count": 10,
   "metadata": {},
   "outputs": [
    {
     "data": {
      "text/html": [
       "<div><style>\n",
       ".dataframe > thead > tr,\n",
       ".dataframe > tbody > tr {\n",
       "  text-align: right;\n",
       "  white-space: pre-wrap;\n",
       "}\n",
       "</style>\n",
       "<small>shape: (4_767, 6)</small><table border=\"1\" class=\"dataframe\"><thead><tr><th>RegisterDate</th><th>Points</th><th>CurrentRanking</th><th>HighestRanking</th><th>Country</th><th>Continent</th></tr><tr><td>str</td><td>i64</td><td>f64</td><td>i64</td><td>str</td><td>str</td></tr></thead><tbody><tr><td>&quot;8/23/2012&quot;</td><td>199697</td><td>1.0</td><td>1</td><td>&quot;Brazil&quot;</td><td>&quot;South America&quot;</td></tr><tr><td>&quot;9/7/2016&quot;</td><td>188693</td><td>2.0</td><td>1</td><td>&quot;None&quot;</td><td>&quot;None&quot;</td></tr><tr><td>&quot;6/24/2013&quot;</td><td>160026</td><td>3.0</td><td>1</td><td>&quot;None&quot;</td><td>&quot;None&quot;</td></tr><tr><td>&quot;8/24/2015&quot;</td><td>119109</td><td>4.0</td><td>4</td><td>&quot;Lithuania&quot;</td><td>&quot;Europe&quot;</td></tr><tr><td>&quot;4/20/2014&quot;</td><td>118149</td><td>5.0</td><td>5</td><td>&quot;Canada&quot;</td><td>&quot;North America&quot;</td></tr><tr><td>&hellip;</td><td>&hellip;</td><td>&hellip;</td><td>&hellip;</td><td>&hellip;</td><td>&hellip;</td></tr><tr><td>&quot;11/24/2010&quot;</td><td>14</td><td>4762.0</td><td>265</td><td>&quot;Belgium&quot;</td><td>&quot;Europe&quot;</td></tr><tr><td>&quot;1/1/2012&quot;</td><td>14</td><td>4763.0</td><td>1444</td><td>&quot;None&quot;</td><td>&quot;None&quot;</td></tr><tr><td>&quot;1/9/2012&quot;</td><td>14</td><td>4764.0</td><td>1444</td><td>&quot;India&quot;</td><td>&quot;Asia&quot;</td></tr><tr><td>&quot;1/15/2012&quot;</td><td>14</td><td>4765.0</td><td>1444</td><td>&quot;None&quot;</td><td>&quot;None&quot;</td></tr><tr><td>&quot;1/17/2012&quot;</td><td>14</td><td>4766.0</td><td>1444</td><td>&quot;None&quot;</td><td>&quot;None&quot;</td></tr></tbody></table></div>"
      ],
      "text/plain": [
       "shape: (4_767, 6)\n",
       "┌──────────────┬────────┬────────────────┬────────────────┬───────────┬───────────────┐\n",
       "│ RegisterDate ┆ Points ┆ CurrentRanking ┆ HighestRanking ┆ Country   ┆ Continent     │\n",
       "│ ---          ┆ ---    ┆ ---            ┆ ---            ┆ ---       ┆ ---           │\n",
       "│ str          ┆ i64    ┆ f64            ┆ i64            ┆ str       ┆ str           │\n",
       "╞══════════════╪════════╪════════════════╪════════════════╪═══════════╪═══════════════╡\n",
       "│ 8/23/2012    ┆ 199697 ┆ 1.0            ┆ 1              ┆ Brazil    ┆ South America │\n",
       "│ 9/7/2016     ┆ 188693 ┆ 2.0            ┆ 1              ┆ None      ┆ None          │\n",
       "│ 6/24/2013    ┆ 160026 ┆ 3.0            ┆ 1              ┆ None      ┆ None          │\n",
       "│ 8/24/2015    ┆ 119109 ┆ 4.0            ┆ 4              ┆ Lithuania ┆ Europe        │\n",
       "│ 4/20/2014    ┆ 118149 ┆ 5.0            ┆ 5              ┆ Canada    ┆ North America │\n",
       "│ …            ┆ …      ┆ …              ┆ …              ┆ …         ┆ …             │\n",
       "│ 11/24/2010   ┆ 14     ┆ 4762.0         ┆ 265            ┆ Belgium   ┆ Europe        │\n",
       "│ 1/1/2012     ┆ 14     ┆ 4763.0         ┆ 1444           ┆ None      ┆ None          │\n",
       "│ 1/9/2012     ┆ 14     ┆ 4764.0         ┆ 1444           ┆ India     ┆ Asia          │\n",
       "│ 1/15/2012    ┆ 14     ┆ 4765.0         ┆ 1444           ┆ None      ┆ None          │\n",
       "│ 1/17/2012    ┆ 14     ┆ 4766.0         ┆ 1444           ┆ None      ┆ None          │\n",
       "└──────────────┴────────┴────────────────┴────────────────┴───────────┴───────────────┘"
      ]
     },
     "execution_count": 10,
     "metadata": {},
     "output_type": "execute_result"
    }
   ],
   "source": [
    "df.sort(by = 'Points', descending=True)"
   ]
  },
  {
   "cell_type": "code",
   "execution_count": 11,
   "metadata": {},
   "outputs": [
    {
     "data": {
      "text/html": [
       "<div><style>\n",
       ".dataframe > thead > tr,\n",
       ".dataframe > tbody > tr {\n",
       "  text-align: right;\n",
       "  white-space: pre-wrap;\n",
       "}\n",
       "</style>\n",
       "<small>shape: (4_767, 1)</small><table border=\"1\" class=\"dataframe\"><thead><tr><th>HighestRanking</th></tr><tr><td>i64</td></tr></thead><tbody><tr><td>1</td></tr><tr><td>1</td></tr><tr><td>1</td></tr><tr><td>4</td></tr><tr><td>5</td></tr><tr><td>&hellip;</td></tr><tr><td>265</td></tr><tr><td>1444</td></tr><tr><td>1444</td></tr><tr><td>1444</td></tr><tr><td>1444</td></tr></tbody></table></div>"
      ],
      "text/plain": [
       "shape: (4_767, 1)\n",
       "┌────────────────┐\n",
       "│ HighestRanking │\n",
       "│ ---            │\n",
       "│ i64            │\n",
       "╞════════════════╡\n",
       "│ 1              │\n",
       "│ 1              │\n",
       "│ 1              │\n",
       "│ 4              │\n",
       "│ 5              │\n",
       "│ …              │\n",
       "│ 265            │\n",
       "│ 1444           │\n",
       "│ 1444           │\n",
       "│ 1444           │\n",
       "│ 1444           │\n",
       "└────────────────┘"
      ]
     },
     "execution_count": 11,
     "metadata": {},
     "output_type": "execute_result"
    }
   ],
   "source": [
    "df.select(pl.col(\"HighestRanking\").sort_by(\"CurrentRanking\"))"
   ]
  },
  {
   "cell_type": "markdown",
   "metadata": {},
   "source": [
    "## Групування.\n",
    "\n",
    "[group_by()](https://docs.pola.rs/api/python/stable/reference/dataframe/api/polars.DataFrame.group_by.html) дозволяє групувати дані за одним або декількома стовпцями."
   ]
  },
  {
   "cell_type": "code",
   "metadata": {
    "ExecuteTime": {
     "end_time": "2024-10-30T06:50:13.408867Z",
     "start_time": "2024-10-30T06:50:13.404413Z"
    }
   },
   "source": [
    "df.group_by('HighestRanking')"
   ],
   "outputs": [
    {
     "data": {
      "text/plain": [
       "<polars.dataframe.group_by.GroupBy at 0x2bdf2aead50>"
      ]
     },
     "execution_count": 3,
     "metadata": {},
     "output_type": "execute_result"
    }
   ],
   "execution_count": 3
  },
  {
   "cell_type": "code",
   "execution_count": 13,
   "metadata": {},
   "outputs": [
    {
     "data": {
      "text/html": [
       "<div><style>\n",
       ".dataframe > thead > tr,\n",
       ".dataframe > tbody > tr {\n",
       "  text-align: right;\n",
       "  white-space: pre-wrap;\n",
       "}\n",
       "</style>\n",
       "<small>shape: (8, 2)</small><table border=\"1\" class=\"dataframe\"><thead><tr><th>Continent</th><th>CurrentRanking</th></tr><tr><td>str</td><td>u32</td></tr></thead><tbody><tr><td>&quot;Europe&quot;</td><td>1046</td></tr><tr><td>&quot;None&quot;</td><td>1267</td></tr><tr><td>&quot;North America&quot;</td><td>1157</td></tr><tr><td>&quot;Africa&quot;</td><td>36</td></tr><tr><td>&quot;Oceania&quot;</td><td>102</td></tr><tr><td>&quot;Asia&quot;</td><td>1091</td></tr><tr><td>&quot;Central America&quot;</td><td>4</td></tr><tr><td>&quot;South America&quot;</td><td>64</td></tr></tbody></table></div>"
      ],
      "text/plain": [
       "shape: (8, 2)\n",
       "┌─────────────────┬────────────────┐\n",
       "│ Continent       ┆ CurrentRanking │\n",
       "│ ---             ┆ ---            │\n",
       "│ str             ┆ u32            │\n",
       "╞═════════════════╪════════════════╡\n",
       "│ Europe          ┆ 1046           │\n",
       "│ None            ┆ 1267           │\n",
       "│ North America   ┆ 1157           │\n",
       "│ Africa          ┆ 36             │\n",
       "│ Oceania         ┆ 102            │\n",
       "│ Asia            ┆ 1091           │\n",
       "│ Central America ┆ 4              │\n",
       "│ South America   ┆ 64             │\n",
       "└─────────────────┴────────────────┘"
      ]
     },
     "execution_count": 13,
     "metadata": {},
     "output_type": "execute_result"
    }
   ],
   "source": [
    "df.group_by('Continent').agg(pl.col('CurrentRanking').count())"
   ]
  },
  {
   "cell_type": "code",
   "execution_count": 14,
   "metadata": {},
   "outputs": [
    {
     "data": {
      "text/html": [
       "<div><style>\n",
       ".dataframe > thead > tr,\n",
       ".dataframe > tbody > tr {\n",
       "  text-align: right;\n",
       "  white-space: pre-wrap;\n",
       "}\n",
       "</style>\n",
       "<small>shape: (4_305, 3)</small><table border=\"1\" class=\"dataframe\"><thead><tr><th>Continent</th><th>Points</th><th>CurrentRanking</th></tr><tr><td>str</td><td>i64</td><td>u32</td></tr></thead><tbody><tr><td>&quot;North America&quot;</td><td>2036</td><td>1</td></tr><tr><td>&quot;North America&quot;</td><td>1864</td><td>1</td></tr><tr><td>&quot;Europe&quot;</td><td>4716</td><td>1</td></tr><tr><td>&quot;None&quot;</td><td>186</td><td>1</td></tr><tr><td>&quot;None&quot;</td><td>4300</td><td>1</td></tr><tr><td>&hellip;</td><td>&hellip;</td><td>&hellip;</td></tr><tr><td>&quot;North America&quot;</td><td>3473</td><td>1</td></tr><tr><td>&quot;Europe&quot;</td><td>4289</td><td>1</td></tr><tr><td>&quot;Europe&quot;</td><td>2128</td><td>1</td></tr><tr><td>&quot;North America&quot;</td><td>8303</td><td>1</td></tr><tr><td>&quot;Asia&quot;</td><td>7775</td><td>1</td></tr></tbody></table></div>"
      ],
      "text/plain": [
       "shape: (4_305, 3)\n",
       "┌───────────────┬────────┬────────────────┐\n",
       "│ Continent     ┆ Points ┆ CurrentRanking │\n",
       "│ ---           ┆ ---    ┆ ---            │\n",
       "│ str           ┆ i64    ┆ u32            │\n",
       "╞═══════════════╪════════╪════════════════╡\n",
       "│ North America ┆ 2036   ┆ 1              │\n",
       "│ North America ┆ 1864   ┆ 1              │\n",
       "│ Europe        ┆ 4716   ┆ 1              │\n",
       "│ None          ┆ 186    ┆ 1              │\n",
       "│ None          ┆ 4300   ┆ 1              │\n",
       "│ …             ┆ …      ┆ …              │\n",
       "│ North America ┆ 3473   ┆ 1              │\n",
       "│ Europe        ┆ 4289   ┆ 1              │\n",
       "│ Europe        ┆ 2128   ┆ 1              │\n",
       "│ North America ┆ 8303   ┆ 1              │\n",
       "│ Asia          ┆ 7775   ┆ 1              │\n",
       "└───────────────┴────────┴────────────────┘"
      ]
     },
     "execution_count": 14,
     "metadata": {},
     "output_type": "execute_result"
    }
   ],
   "source": [
    "df.group_by('Continent', 'Points').agg(pl.col('CurrentRanking').count())"
   ]
  },
  {
   "cell_type": "markdown",
   "metadata": {},
   "source": [
    "Агрегування у цьому випадку дозволяє розраховувати різні статистичні особливості даних. Можна використовувати різні наперед задані функції:\n",
    "* sum()\n",
    "* count()\n",
    "* mean()\n",
    "* min()\n",
    "* max()\n",
    "\n",
    "Окрім того, можна використовувати лямбда-функції."
   ]
  },
  {
   "cell_type": "code",
   "execution_count": 15,
   "metadata": {},
   "outputs": [
    {
     "name": "stderr",
     "output_type": "stream",
     "text": [
      "sys:1: MapWithoutReturnDtypeWarning: Calling `map_elements` without specifying `return_dtype` can lead to unpredictable results. Specify `return_dtype` to silence this warning.\n"
     ]
    },
    {
     "data": {
      "text/html": [
       "<div><style>\n",
       ".dataframe > thead > tr,\n",
       ".dataframe > tbody > tr {\n",
       "  text-align: right;\n",
       "  white-space: pre-wrap;\n",
       "}\n",
       "</style>\n",
       "<small>shape: (8, 2)</small><table border=\"1\" class=\"dataframe\"><thead><tr><th>Continent</th><th>range</th></tr><tr><td>str</td><td>f64</td></tr></thead><tbody><tr><td>&quot;North America&quot;</td><td>4756.0</td></tr><tr><td>&quot;Central America&quot;</td><td>2157.0</td></tr><tr><td>&quot;South America&quot;</td><td>4756.0</td></tr><tr><td>&quot;None&quot;</td><td>4764.0</td></tr><tr><td>&quot;Europe&quot;</td><td>4758.0</td></tr><tr><td>&quot;Africa&quot;</td><td>4688.0</td></tr><tr><td>&quot;Asia&quot;</td><td>4757.0</td></tr><tr><td>&quot;Oceania&quot;</td><td>4674.0</td></tr></tbody></table></div>"
      ],
      "text/plain": [
       "shape: (8, 2)\n",
       "┌─────────────────┬────────┐\n",
       "│ Continent       ┆ range  │\n",
       "│ ---             ┆ ---    │\n",
       "│ str             ┆ f64    │\n",
       "╞═════════════════╪════════╡\n",
       "│ North America   ┆ 4756.0 │\n",
       "│ Central America ┆ 2157.0 │\n",
       "│ South America   ┆ 4756.0 │\n",
       "│ None            ┆ 4764.0 │\n",
       "│ Europe          ┆ 4758.0 │\n",
       "│ Africa          ┆ 4688.0 │\n",
       "│ Asia            ┆ 4757.0 │\n",
       "│ Oceania         ┆ 4674.0 │\n",
       "└─────────────────┴────────┘"
      ]
     },
     "execution_count": 15,
     "metadata": {},
     "output_type": "execute_result"
    }
   ],
   "source": [
    "df.group_by('Continent').agg(\n",
    "    pl.col('CurrentRanking').map_elements(lambda x: x.max() - x.min()).alias('range')\n",
    ")"
   ]
  },
  {
   "cell_type": "markdown",
   "metadata": {},
   "source": [
    "## Зведені таблиці.\n",
    "\n",
    "Дозволяють переформатувати дані, групуючи їх за двома або більше змінними."
   ]
  },
  {
   "cell_type": "code",
   "execution_count": 16,
   "metadata": {},
   "outputs": [
    {
     "data": {
      "text/html": [
       "<div><style>\n",
       ".dataframe > thead > tr,\n",
       ".dataframe > tbody > tr {\n",
       "  text-align: right;\n",
       "  white-space: pre-wrap;\n",
       "}\n",
       "</style>\n",
       "<small>shape: (5, 3)</small><table border=\"1\" class=\"dataframe\"><thead><tr><th>city</th><th>product</th><th>quantity</th></tr><tr><td>str</td><td>str</td><td>i64</td></tr></thead><tbody><tr><td>&quot;Kyiv&quot;</td><td>&quot;apple&quot;</td><td>10</td></tr><tr><td>&quot;Lviv&quot;</td><td>&quot;orange&quot;</td><td>15</td></tr><tr><td>&quot;Odesa&quot;</td><td>&quot;apple&quot;</td><td>8</td></tr><tr><td>&quot;Kyiv&quot;</td><td>&quot;banana&quot;</td><td>12</td></tr><tr><td>&quot;Lviv&quot;</td><td>&quot;orange&quot;</td><td>20</td></tr></tbody></table></div>"
      ],
      "text/plain": [
       "shape: (5, 3)\n",
       "┌───────┬─────────┬──────────┐\n",
       "│ city  ┆ product ┆ quantity │\n",
       "│ ---   ┆ ---     ┆ ---      │\n",
       "│ str   ┆ str     ┆ i64      │\n",
       "╞═══════╪═════════╪══════════╡\n",
       "│ Kyiv  ┆ apple   ┆ 10       │\n",
       "│ Lviv  ┆ orange  ┆ 15       │\n",
       "│ Odesa ┆ apple   ┆ 8        │\n",
       "│ Kyiv  ┆ banana  ┆ 12       │\n",
       "│ Lviv  ┆ orange  ┆ 20       │\n",
       "└───────┴─────────┴──────────┘"
      ]
     },
     "execution_count": 16,
     "metadata": {},
     "output_type": "execute_result"
    }
   ],
   "source": [
    "data = {\n",
    "    \"city\": [\"Kyiv\", \"Lviv\", \"Odesa\", \"Kyiv\", \"Lviv\"],\n",
    "    \"product\": [\"apple\", \"orange\", \"apple\", \"banana\", \"orange\"],\n",
    "    \"quantity\": [10, 15, 8, 12, 20]\n",
    "}\n",
    "\n",
    "df = pl.DataFrame(data)\n",
    "df"
   ]
  },
  {
   "cell_type": "code",
   "execution_count": 17,
   "metadata": {},
   "outputs": [
    {
     "data": {
      "text/html": [
       "<div><style>\n",
       ".dataframe > thead > tr,\n",
       ".dataframe > tbody > tr {\n",
       "  text-align: right;\n",
       "  white-space: pre-wrap;\n",
       "}\n",
       "</style>\n",
       "<small>shape: (3, 4)</small><table border=\"1\" class=\"dataframe\"><thead><tr><th>city</th><th>apple</th><th>orange</th><th>banana</th></tr><tr><td>str</td><td>i64</td><td>i64</td><td>i64</td></tr></thead><tbody><tr><td>&quot;Kyiv&quot;</td><td>10</td><td>null</td><td>12</td></tr><tr><td>&quot;Lviv&quot;</td><td>null</td><td>35</td><td>null</td></tr><tr><td>&quot;Odesa&quot;</td><td>8</td><td>null</td><td>null</td></tr></tbody></table></div>"
      ],
      "text/plain": [
       "shape: (3, 4)\n",
       "┌───────┬───────┬────────┬────────┐\n",
       "│ city  ┆ apple ┆ orange ┆ banana │\n",
       "│ ---   ┆ ---   ┆ ---    ┆ ---    │\n",
       "│ str   ┆ i64   ┆ i64    ┆ i64    │\n",
       "╞═══════╪═══════╪════════╪════════╡\n",
       "│ Kyiv  ┆ 10    ┆ null   ┆ 12     │\n",
       "│ Lviv  ┆ null  ┆ 35     ┆ null   │\n",
       "│ Odesa ┆ 8     ┆ null   ┆ null   │\n",
       "└───────┴───────┴────────┴────────┘"
      ]
     },
     "execution_count": 17,
     "metadata": {},
     "output_type": "execute_result"
    }
   ],
   "source": [
    "df.pivot(\n",
    "    index=\"city\",\n",
    "    on=\"product\",\n",
    "    values=\"quantity\",\n",
    "    aggregate_function=\"sum\"\n",
    ")"
   ]
  },
  {
   "cell_type": "markdown",
   "metadata": {},
   "source": [
    "### Робота з пропущеними даними."
   ]
  },
  {
   "cell_type": "code",
   "execution_count": 23,
   "metadata": {},
   "outputs": [
    {
     "data": {
      "text/html": [
       "<div><style>\n",
       ".dataframe > thead > tr,\n",
       ".dataframe > tbody > tr {\n",
       "  text-align: right;\n",
       "  white-space: pre-wrap;\n",
       "}\n",
       "</style>\n",
       "<small>shape: (4, 2)</small><table border=\"1\" class=\"dataframe\"><thead><tr><th>a</th><th>b</th></tr><tr><td>f64</td><td>f64</td></tr></thead><tbody><tr><td>1.0</td><td>null</td></tr><tr><td>null</td><td>NaN</td></tr><tr><td>3.0</td><td>5.0</td></tr><tr><td>NaN</td><td>6.0</td></tr></tbody></table></div>"
      ],
      "text/plain": [
       "shape: (4, 2)\n",
       "┌──────┬──────┐\n",
       "│ a    ┆ b    │\n",
       "│ ---  ┆ ---  │\n",
       "│ f64  ┆ f64  │\n",
       "╞══════╪══════╡\n",
       "│ 1.0  ┆ null │\n",
       "│ null ┆ NaN  │\n",
       "│ 3.0  ┆ 5.0  │\n",
       "│ NaN  ┆ 6.0  │\n",
       "└──────┴──────┘"
      ]
     },
     "execution_count": 23,
     "metadata": {},
     "output_type": "execute_result"
    }
   ],
   "source": [
    "data = {'a': [1, None, 3, float(\"nan\")], 'b': [None, float(\"nan\"), 5, 6]}\n",
    "df = pl.DataFrame(data, strict=False)\n",
    "df"
   ]
  },
  {
   "cell_type": "code",
   "execution_count": 24,
   "metadata": {},
   "outputs": [
    {
     "data": {
      "text/html": [
       "<div><style>\n",
       ".dataframe > thead > tr,\n",
       ".dataframe > tbody > tr {\n",
       "  text-align: right;\n",
       "  white-space: pre-wrap;\n",
       "}\n",
       "</style>\n",
       "<small>shape: (4, 2)</small><table border=\"1\" class=\"dataframe\"><thead><tr><th>a</th><th>b</th></tr><tr><td>f64</td><td>f64</td></tr></thead><tbody><tr><td>1.0</td><td>null</td></tr><tr><td>null</td><td>0.0</td></tr><tr><td>3.0</td><td>5.0</td></tr><tr><td>0.0</td><td>6.0</td></tr></tbody></table></div>"
      ],
      "text/plain": [
       "shape: (4, 2)\n",
       "┌──────┬──────┐\n",
       "│ a    ┆ b    │\n",
       "│ ---  ┆ ---  │\n",
       "│ f64  ┆ f64  │\n",
       "╞══════╪══════╡\n",
       "│ 1.0  ┆ null │\n",
       "│ null ┆ 0.0  │\n",
       "│ 3.0  ┆ 5.0  │\n",
       "│ 0.0  ┆ 6.0  │\n",
       "└──────┴──────┘"
      ]
     },
     "execution_count": 24,
     "metadata": {},
     "output_type": "execute_result"
    }
   ],
   "source": [
    "df.fill_nan(0)"
   ]
  },
  {
   "cell_type": "code",
   "execution_count": 25,
   "metadata": {},
   "outputs": [
    {
     "data": {
      "text/html": [
       "<div><style>\n",
       ".dataframe > thead > tr,\n",
       ".dataframe > tbody > tr {\n",
       "  text-align: right;\n",
       "  white-space: pre-wrap;\n",
       "}\n",
       "</style>\n",
       "<small>shape: (4, 2)</small><table border=\"1\" class=\"dataframe\"><thead><tr><th>a</th><th>b</th></tr><tr><td>f64</td><td>f64</td></tr></thead><tbody><tr><td>1.0</td><td>0.0</td></tr><tr><td>0.0</td><td>NaN</td></tr><tr><td>3.0</td><td>5.0</td></tr><tr><td>NaN</td><td>6.0</td></tr></tbody></table></div>"
      ],
      "text/plain": [
       "shape: (4, 2)\n",
       "┌─────┬─────┐\n",
       "│ a   ┆ b   │\n",
       "│ --- ┆ --- │\n",
       "│ f64 ┆ f64 │\n",
       "╞═════╪═════╡\n",
       "│ 1.0 ┆ 0.0 │\n",
       "│ 0.0 ┆ NaN │\n",
       "│ 3.0 ┆ 5.0 │\n",
       "│ NaN ┆ 6.0 │\n",
       "└─────┴─────┘"
      ]
     },
     "execution_count": 25,
     "metadata": {},
     "output_type": "execute_result"
    }
   ],
   "source": [
    "df.fill_null(0)"
   ]
  },
  {
   "cell_type": "code",
   "execution_count": 27,
   "metadata": {},
   "outputs": [
    {
     "data": {
      "text/html": [
       "<div><style>\n",
       ".dataframe > thead > tr,\n",
       ".dataframe > tbody > tr {\n",
       "  text-align: right;\n",
       "  white-space: pre-wrap;\n",
       "}\n",
       "</style>\n",
       "<small>shape: (2, 2)</small><table border=\"1\" class=\"dataframe\"><thead><tr><th>a</th><th>b</th></tr><tr><td>f64</td><td>f64</td></tr></thead><tbody><tr><td>3.0</td><td>5.0</td></tr><tr><td>NaN</td><td>6.0</td></tr></tbody></table></div>"
      ],
      "text/plain": [
       "shape: (2, 2)\n",
       "┌─────┬─────┐\n",
       "│ a   ┆ b   │\n",
       "│ --- ┆ --- │\n",
       "│ f64 ┆ f64 │\n",
       "╞═════╪═════╡\n",
       "│ 3.0 ┆ 5.0 │\n",
       "│ NaN ┆ 6.0 │\n",
       "└─────┴─────┘"
      ]
     },
     "execution_count": 27,
     "metadata": {},
     "output_type": "execute_result"
    }
   ],
   "source": [
    "df.drop_nulls()"
   ]
  },
  {
   "cell_type": "markdown",
   "metadata": {},
   "source": [
    "## Лінива обробка даних.\n",
    "LazyFrame в Polars - це абстрактне представлення обчислень над даними, яке відкладає фактичне виконання операцій до останнього моменту. Це дозволяє оптимізувати виконання послідовності операцій, уникаючи проміжних обчислень і покращуючи ефективність.\n",
    "\n",
    "### Створення LazyFrame.\n"
   ]
  },
  {
   "cell_type": "code",
   "execution_count": 28,
   "metadata": {},
   "outputs": [
    {
     "data": {
      "text/html": [
       "<i>naive plan: (run <b>LazyFrame.explain(optimized=True)</b> to see the optimized plan)</i>\n",
       "    <p></p>\n",
       "    <div>DF [\"a\", \"b\"]; PROJECT */2 COLUMNS; SELECTION: None</div>"
      ],
      "text/plain": [
       "<LazyFrame at 0x11BC6DAD0>"
      ]
     },
     "execution_count": 28,
     "metadata": {},
     "output_type": "execute_result"
    }
   ],
   "source": [
    "df = pl.DataFrame({'a': [1, 2, 3], 'b': [4, 5, 6]})\n",
    "\n",
    "lazy_df = df.lazy()\n",
    "lazy_df"
   ]
  },
  {
   "cell_type": "markdown",
   "metadata": {},
   "source": [
    "Операції над LazyFrame не виконуються одразу, а додаються до графу обчислень. Фактичне виконання відбувається лише тоді, коли ми явно просимо отримати результат (наприклад, за допомогою `collect()`)."
   ]
  },
  {
   "cell_type": "code",
   "execution_count": 30,
   "metadata": {},
   "outputs": [
    {
     "data": {
      "text/html": [
       "<div><style>\n",
       ".dataframe > thead > tr,\n",
       ".dataframe > tbody > tr {\n",
       "  text-align: right;\n",
       "  white-space: pre-wrap;\n",
       "}\n",
       "</style>\n",
       "<small>shape: (1, 2)</small><table border=\"1\" class=\"dataframe\"><thead><tr><th>b</th><th>a</th></tr><tr><td>i64</td><td>f64</td></tr></thead><tbody><tr><td>6</td><td>3.0</td></tr></tbody></table></div>"
      ],
      "text/plain": [
       "shape: (1, 2)\n",
       "┌─────┬─────┐\n",
       "│ b   ┆ a   │\n",
       "│ --- ┆ --- │\n",
       "│ i64 ┆ f64 │\n",
       "╞═════╪═════╡\n",
       "│ 6   ┆ 3.0 │\n",
       "└─────┴─────┘"
      ]
     },
     "execution_count": 30,
     "metadata": {},
     "output_type": "execute_result"
    }
   ],
   "source": [
    "result = (\n",
    "    lazy_df\n",
    "    .filter(pl.col('a') > 2)\n",
    "    .group_by('b')\n",
    "    .agg(pl.col('a').mean())\n",
    "    .sort('b', descending=True)\n",
    ")\n",
    "\n",
    "result.collect()"
   ]
  },
  {
   "cell_type": "code",
   "execution_count": 36,
   "metadata": {},
   "outputs": [
    {
     "data": {
      "text/html": [
       "<div><style>\n",
       ".dataframe > thead > tr,\n",
       ".dataframe > tbody > tr {\n",
       "  text-align: right;\n",
       "  white-space: pre-wrap;\n",
       "}\n",
       "</style>\n",
       "<small>shape: (1, 4)</small><table border=\"1\" class=\"dataframe\"><thead><tr><th>a</th><th>b</th><th>count</th><th>sum_a</th></tr><tr><td>i64</td><td>i64</td><td>u32</td><td>i64</td></tr></thead><tbody><tr><td>6</td><td>6</td><td>1</td><td>6</td></tr></tbody></table></div>"
      ],
      "text/plain": [
       "shape: (1, 4)\n",
       "┌─────┬─────┬───────┬───────┐\n",
       "│ a   ┆ b   ┆ count ┆ sum_a │\n",
       "│ --- ┆ --- ┆ ---   ┆ ---   │\n",
       "│ i64 ┆ i64 ┆ u32   ┆ i64   │\n",
       "╞═════╪═════╪═══════╪═══════╡\n",
       "│ 6   ┆ 6   ┆ 1     ┆ 6     │\n",
       "└─────┴─────┴───────┴───────┘"
      ]
     },
     "execution_count": 36,
     "metadata": {},
     "output_type": "execute_result"
    }
   ],
   "source": [
    "result = (\n",
    "    lazy_df\n",
    "    .filter(pl.col('a') > 2)\n",
    "    .with_columns(pl.col('a') * 2)\n",
    "    .group_by(['a', 'b'])\n",
    "    .agg([\n",
    "        pl.count('b').alias('count'),\n",
    "        pl.sum('a').alias('sum_a')\n",
    "    ])\n",
    "    .sort('count', descending=True)\n",
    ")\n",
    "\n",
    "result.collect()"
   ]
  },
  {
   "cell_type": "markdown",
   "metadata": {},
   "source": [
    "## Об'єднання даних."
   ]
  },
  {
   "cell_type": "markdown",
   "metadata": {},
   "source": [
    "Polars пропонує потужні інструменти для об'єднання даних з різних джерел. Основні методи для цього - join та concat.\n",
    "\n",
    "* join: Використовується для злиття DataFrame за спільними стовпцями. Це аналог SQL JOIN.\n",
    "* concat: Слугує для вертикального склеювання DataFrame."
   ]
  },
  {
   "cell_type": "code",
   "execution_count": 37,
   "metadata": {},
   "outputs": [],
   "source": [
    "df1 = pl.DataFrame({'key': [1, 2, 3], 'value1': [10, 20, 30]})\n",
    "df2 = pl.DataFrame({'key': [2, 3, 4], 'value2': [40, 50, 60]})"
   ]
  },
  {
   "cell_type": "code",
   "execution_count": 38,
   "metadata": {},
   "outputs": [
    {
     "data": {
      "text/html": [
       "<div><style>\n",
       ".dataframe > thead > tr,\n",
       ".dataframe > tbody > tr {\n",
       "  text-align: right;\n",
       "  white-space: pre-wrap;\n",
       "}\n",
       "</style>\n",
       "<small>shape: (2, 3)</small><table border=\"1\" class=\"dataframe\"><thead><tr><th>key</th><th>value1</th><th>value2</th></tr><tr><td>i64</td><td>i64</td><td>i64</td></tr></thead><tbody><tr><td>2</td><td>20</td><td>40</td></tr><tr><td>3</td><td>30</td><td>50</td></tr></tbody></table></div>"
      ],
      "text/plain": [
       "shape: (2, 3)\n",
       "┌─────┬────────┬────────┐\n",
       "│ key ┆ value1 ┆ value2 │\n",
       "│ --- ┆ ---    ┆ ---    │\n",
       "│ i64 ┆ i64    ┆ i64    │\n",
       "╞═════╪════════╪════════╡\n",
       "│ 2   ┆ 20     ┆ 40     │\n",
       "│ 3   ┆ 30     ┆ 50     │\n",
       "└─────┴────────┴────────┘"
      ]
     },
     "execution_count": 38,
     "metadata": {},
     "output_type": "execute_result"
    }
   ],
   "source": [
    "df1.join(df2, on='key', how='inner')"
   ]
  },
  {
   "cell_type": "code",
   "execution_count": 42,
   "metadata": {},
   "outputs": [
    {
     "data": {
      "text/html": [
       "<div><style>\n",
       ".dataframe > thead > tr,\n",
       ".dataframe > tbody > tr {\n",
       "  text-align: right;\n",
       "  white-space: pre-wrap;\n",
       "}\n",
       "</style>\n",
       "<small>shape: (4, 4)</small><table border=\"1\" class=\"dataframe\"><thead><tr><th>key</th><th>value1</th><th>key_right</th><th>value2</th></tr><tr><td>i64</td><td>i64</td><td>i64</td><td>i64</td></tr></thead><tbody><tr><td>2</td><td>20</td><td>2</td><td>40</td></tr><tr><td>3</td><td>30</td><td>3</td><td>50</td></tr><tr><td>null</td><td>null</td><td>4</td><td>60</td></tr><tr><td>1</td><td>10</td><td>null</td><td>null</td></tr></tbody></table></div>"
      ],
      "text/plain": [
       "shape: (4, 4)\n",
       "┌──────┬────────┬───────────┬────────┐\n",
       "│ key  ┆ value1 ┆ key_right ┆ value2 │\n",
       "│ ---  ┆ ---    ┆ ---       ┆ ---    │\n",
       "│ i64  ┆ i64    ┆ i64       ┆ i64    │\n",
       "╞══════╪════════╪═══════════╪════════╡\n",
       "│ 2    ┆ 20     ┆ 2         ┆ 40     │\n",
       "│ 3    ┆ 30     ┆ 3         ┆ 50     │\n",
       "│ null ┆ null   ┆ 4         ┆ 60     │\n",
       "│ 1    ┆ 10     ┆ null      ┆ null   │\n",
       "└──────┴────────┴───────────┴────────┘"
      ]
     },
     "execution_count": 42,
     "metadata": {},
     "output_type": "execute_result"
    }
   ],
   "source": [
    "df1.join(df2, on='key', how='full')"
   ]
  },
  {
   "cell_type": "code",
   "execution_count": 40,
   "metadata": {},
   "outputs": [
    {
     "data": {
      "text/html": [
       "<div><style>\n",
       ".dataframe > thead > tr,\n",
       ".dataframe > tbody > tr {\n",
       "  text-align: right;\n",
       "  white-space: pre-wrap;\n",
       "}\n",
       "</style>\n",
       "<small>shape: (3, 3)</small><table border=\"1\" class=\"dataframe\"><thead><tr><th>key</th><th>value1</th><th>value2</th></tr><tr><td>i64</td><td>i64</td><td>i64</td></tr></thead><tbody><tr><td>1</td><td>10</td><td>null</td></tr><tr><td>2</td><td>20</td><td>40</td></tr><tr><td>3</td><td>30</td><td>50</td></tr></tbody></table></div>"
      ],
      "text/plain": [
       "shape: (3, 3)\n",
       "┌─────┬────────┬────────┐\n",
       "│ key ┆ value1 ┆ value2 │\n",
       "│ --- ┆ ---    ┆ ---    │\n",
       "│ i64 ┆ i64    ┆ i64    │\n",
       "╞═════╪════════╪════════╡\n",
       "│ 1   ┆ 10     ┆ null   │\n",
       "│ 2   ┆ 20     ┆ 40     │\n",
       "│ 3   ┆ 30     ┆ 50     │\n",
       "└─────┴────────┴────────┘"
      ]
     },
     "execution_count": 40,
     "metadata": {},
     "output_type": "execute_result"
    }
   ],
   "source": [
    "df1.join(df2, on='key', how='left')"
   ]
  },
  {
   "cell_type": "code",
   "execution_count": 41,
   "metadata": {},
   "outputs": [
    {
     "data": {
      "text/html": [
       "<div><style>\n",
       ".dataframe > thead > tr,\n",
       ".dataframe > tbody > tr {\n",
       "  text-align: right;\n",
       "  white-space: pre-wrap;\n",
       "}\n",
       "</style>\n",
       "<small>shape: (3, 3)</small><table border=\"1\" class=\"dataframe\"><thead><tr><th>value1</th><th>key</th><th>value2</th></tr><tr><td>i64</td><td>i64</td><td>i64</td></tr></thead><tbody><tr><td>20</td><td>2</td><td>40</td></tr><tr><td>30</td><td>3</td><td>50</td></tr><tr><td>null</td><td>4</td><td>60</td></tr></tbody></table></div>"
      ],
      "text/plain": [
       "shape: (3, 3)\n",
       "┌────────┬─────┬────────┐\n",
       "│ value1 ┆ key ┆ value2 │\n",
       "│ ---    ┆ --- ┆ ---    │\n",
       "│ i64    ┆ i64 ┆ i64    │\n",
       "╞════════╪═════╪════════╡\n",
       "│ 20     ┆ 2   ┆ 40     │\n",
       "│ 30     ┆ 3   ┆ 50     │\n",
       "│ null   ┆ 4   ┆ 60     │\n",
       "└────────┴─────┴────────┘"
      ]
     },
     "execution_count": 41,
     "metadata": {},
     "output_type": "execute_result"
    }
   ],
   "source": [
    "df1.join(df2, on='key', how='right')"
   ]
  },
  {
   "cell_type": "code",
   "execution_count": 44,
   "metadata": {},
   "outputs": [],
   "source": [
    "df1 = pl.DataFrame({'key': [1, 2, 3], 'value1': [10, 20, 30]})\n",
    "df2 = pl.DataFrame({'key': [2, 3, 4], 'value1': [40, 50, 60]})"
   ]
  },
  {
   "cell_type": "code",
   "execution_count": 46,
   "metadata": {},
   "outputs": [
    {
     "data": {
      "text/html": [
       "<div><style>\n",
       ".dataframe > thead > tr,\n",
       ".dataframe > tbody > tr {\n",
       "  text-align: right;\n",
       "  white-space: pre-wrap;\n",
       "}\n",
       "</style>\n",
       "<small>shape: (6, 2)</small><table border=\"1\" class=\"dataframe\"><thead><tr><th>key</th><th>value1</th></tr><tr><td>i64</td><td>i64</td></tr></thead><tbody><tr><td>1</td><td>10</td></tr><tr><td>2</td><td>20</td></tr><tr><td>3</td><td>30</td></tr><tr><td>2</td><td>40</td></tr><tr><td>3</td><td>50</td></tr><tr><td>4</td><td>60</td></tr></tbody></table></div>"
      ],
      "text/plain": [
       "shape: (6, 2)\n",
       "┌─────┬────────┐\n",
       "│ key ┆ value1 │\n",
       "│ --- ┆ ---    │\n",
       "│ i64 ┆ i64    │\n",
       "╞═════╪════════╡\n",
       "│ 1   ┆ 10     │\n",
       "│ 2   ┆ 20     │\n",
       "│ 3   ┆ 30     │\n",
       "│ 2   ┆ 40     │\n",
       "│ 3   ┆ 50     │\n",
       "│ 4   ┆ 60     │\n",
       "└─────┴────────┘"
      ]
     },
     "execution_count": 46,
     "metadata": {},
     "output_type": "execute_result"
    }
   ],
   "source": [
    "pl.concat([df1, df2])"
   ]
  }
 ],
 "metadata": {
  "kernelspec": {
   "display_name": "base",
   "language": "python",
   "name": "python3"
  },
  "language_info": {
   "codemirror_mode": {
    "name": "ipython",
    "version": 3
   },
   "file_extension": ".py",
   "mimetype": "text/x-python",
   "name": "python",
   "nbconvert_exporter": "python",
   "pygments_lexer": "ipython3",
   "version": "3.11.4"
  }
 },
 "nbformat": 4,
 "nbformat_minor": 2
}
